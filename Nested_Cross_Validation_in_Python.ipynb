{
  "nbformat": 4,
  "nbformat_minor": 0,
  "metadata": {
    "kernelspec": {
      "display_name": "Python 3",
      "language": "python",
      "name": "python3"
    },
    "language_info": {
      "codemirror_mode": {
        "name": "ipython",
        "version": 3
      },
      "file_extension": ".py",
      "mimetype": "text/x-python",
      "name": "python",
      "nbconvert_exporter": "python",
      "pygments_lexer": "ipython3",
      "version": "3.7.3"
    },
    "colab": {
      "name": "Nested Cross-Validation in Python.ipynb",
      "provenance": [],
      "collapsed_sections": [],
      "toc_visible": true,
      "include_colab_link": true
    }
  },
  "cells": [
    {
      "cell_type": "markdown",
      "metadata": {
        "id": "view-in-github",
        "colab_type": "text"
      },
      "source": [
        "<a href=\"https://colab.research.google.com/github/omartinez182/data-science-notebooks/blob/master/Nested_Cross_Validation_in_Python.ipynb\" target=\"_parent\"><img src=\"https://colab.research.google.com/assets/colab-badge.svg\" alt=\"Open In Colab\"/></a>"
      ]
    },
    {
      "cell_type": "markdown",
      "metadata": {
        "id": "3QroIsl6ozAf",
        "colab_type": "text"
      },
      "source": [
        "# Nested Cross-Validation in Python"
      ]
    },
    {
      "cell_type": "markdown",
      "metadata": {
        "id": "Yeys7bLqfowX",
        "colab_type": "text"
      },
      "source": [
        "This notebook will illustrate the implementation of Nested Cross-Validation in Python using Sklearn."
      ]
    },
    {
      "cell_type": "code",
      "metadata": {
        "id": "BToxz1OkozAg",
        "colab_type": "code",
        "colab": {}
      },
      "source": [
        "#Load libraries\n",
        "import numpy as np\n",
        "import pandas as pd\n",
        "from sklearn.datasets import load_wine\n",
        "from sklearn.model_selection import StratifiedKFold\n",
        "from sklearn.ensemble import RandomForestClassifier\n",
        "from sklearn.model_selection import cross_val_score, GridSearchCV, KFold\n",
        "\n",
        "import matplotlib.pyplot as plt\n",
        "import warnings\n",
        "%matplotlib inline\n",
        "warnings.filterwarnings(\"ignore\")"
      ],
      "execution_count": 1,
      "outputs": []
    },
    {
      "cell_type": "markdown",
      "metadata": {
        "id": "gnGffpC5q3e3",
        "colab_type": "text"
      },
      "source": [
        "Let’s start by loading the wine dataset from sklearn.datasets.\n"
      ]
    },
    {
      "cell_type": "code",
      "metadata": {
        "id": "puFsANDLpydy",
        "colab_type": "code",
        "colab": {
          "base_uri": "https://localhost:8080/",
          "height": 34
        },
        "outputId": "ac03646b-ffab-41d0-8e7c-29ff87f2cfec"
      },
      "source": [
        "#Load data\n",
        "X, y = load_wine(return_X_y=True)\n",
        "X.shape, y.shape"
      ],
      "execution_count": 2,
      "outputs": [
        {
          "output_type": "execute_result",
          "data": {
            "text/plain": [
              "((178, 13), (178,))"
            ]
          },
          "metadata": {
            "tags": []
          },
          "execution_count": 2
        }
      ]
    },
    {
      "cell_type": "markdown",
      "metadata": {
        "id": "Ommr_BPArWWi",
        "colab_type": "text"
      },
      "source": [
        "Now, we proceed to instantiate the classifier and then specify the number of rounds/trials we would like to run, in other words, how many times we’ll perform the whole process of going through both the inner and outer loops. Because this is computationally expensive and we are doing this only for demonstration purposes, let's choose 20. Remember, the number of rounds represents how many times you’ll split your dataset differently on each of the CV processes.\n"
      ]
    },
    {
      "cell_type": "code",
      "metadata": {
        "id": "JLffEcI_rXMr",
        "colab_type": "code",
        "colab": {}
      },
      "source": [
        "#Set a seed to ensure reproducibility\n",
        "seed = 42 \n",
        "\n",
        "#Instantiate the Random Forest classifier\n",
        "rf = RandomForestClassifier(random_state=seed)\n",
        "\n",
        "#Number of rounds\n",
        "rounds = 20"
      ],
      "execution_count": 5,
      "outputs": []
    },
    {
      "cell_type": "markdown",
      "metadata": {
        "id": "Uo5s9rUEsag3",
        "colab_type": "text"
      },
      "source": [
        "The next step involves creating a dictionary that will establish the hyperparameter space that we are going to explore in each round, and we also create two empty arrays to store the results from the nested and the non-nested processes.\n",
        "\n"
      ]
    },
    {
      "cell_type": "code",
      "metadata": {
        "id": "EEQfmjZ5saxe",
        "colab_type": "code",
        "colab": {}
      },
      "source": [
        "#Define the hyperparameter grid\n",
        "rf_param_grid = {'max_depth': [10, 50],\n",
        "                 'n_estimators': [100, 200, 400]}\n",
        "\n",
        "#Create arrays to store the scores\n",
        "outer_scores = np.zeros(rounds)\n",
        "nested_scores = np.zeros(rounds)"
      ],
      "execution_count": 4,
      "outputs": []
    },
    {
      "cell_type": "markdown",
      "metadata": {
        "id": "xGdMEn4BtD2G",
        "colab_type": "text"
      },
      "source": [
        "The next step is crucial, we are going to create a for loop that will iterate for the number of rounds we've specified, and that will contain two different cross-validation objects.\n",
        "\n",
        "For this example, we'll use 5-fold cross-validation for both the outer and inner loops, and we use the value of each round (i) as the random_state for both CV objects.\n",
        "\n",
        "Then, we proceed to create and configure the object to perform the hyperparameter optimization, in this case, we'll use grid-search. Notice that we pass to the grid-search the 'inner_cv' object as the cross-validation method.\n",
        "\n",
        "Subsequently, notice that for the final scores of the \"Nested\" cross-validation process, we use the cross_val_score function and feed it the classifier object 'clf' (includes its own CV process) which is the object we used to perform the hyperparameter optimization, and also the 'outer_cv' cross-validation object. In this process, we also fit the data and then store the results of each process inside the empty arrays we created before.\n"
      ]
    },
    {
      "cell_type": "code",
      "metadata": {
        "id": "EQ3uM0O2-V52",
        "colab_type": "code",
        "colab": {}
      },
      "source": [
        "# Loop for each round\n",
        "for i in range(rounds):\n",
        "\n",
        "    #Define both cross-validation objects (inner & outer)\n",
        "    inner_cv = StratifiedKFold(n_splits=5, shuffle=True, random_state=i)\n",
        "    outer_cv = StratifiedKFold(n_splits=5, shuffle=True, random_state=i)\n",
        "\n",
        "    # Non-nested parameter search and scoring\n",
        "    clf = GridSearchCV(estimator=rf, param_grid=rf_param_grid, cv=inner_cv)\n",
        "    clf.fit(X, y)\n",
        "    outer_scores[i] = clf.best_score_\n",
        "\n",
        "    # Nested CV with parameter optimization\n",
        "    nested_score = cross_val_score(clf, X=X, y=y, cv=outer_cv)\n",
        "    nested_scores[i] = nested_score.mean()"
      ],
      "execution_count": null,
      "outputs": []
    },
    {
      "cell_type": "markdown",
      "metadata": {
        "id": "a3hWBC0tl1ZN",
        "colab_type": "text"
      },
      "source": [
        "We can now take the difference in the accuracy of both the \"simple\" cross-validation and the nested cross-validation processes to see how much they disagree with each other on average.\n",
        "\n",
        "In this case, by nested cross-validation scores we mean the scores of the nested process (not to be confused with the inner cross-validation process), and we compare them with the scores of the regular process (non-nested).\n",
        "\n"
      ]
    },
    {
      "cell_type": "code",
      "metadata": {
        "id": "a2vsYlTWl2E9",
        "colab_type": "code",
        "colab": {
          "base_uri": "https://localhost:8080/",
          "height": 34
        },
        "outputId": "cc23850f-78cd-4687-afae-66a32cbdb674"
      },
      "source": [
        "#Take the difference from the non-nested and nested scores\n",
        "score_difference = outer_scores - nested_scores\n",
        "\n",
        "print(\"Avg. difference of {:6f} with std. dev. of {:6f}.\"\n",
        "      .format(score_difference.mean(), score_difference.std()))"
      ],
      "execution_count": null,
      "outputs": [
        {
          "output_type": "stream",
          "text": [
            "Avg. difference of 0.001698 with std. dev. of 0.003162.\n"
          ],
          "name": "stdout"
        }
      ]
    },
    {
      "cell_type": "markdown",
      "metadata": {
        "id": "XPR52d00wS-O",
        "colab_type": "text"
      },
      "source": [
        "As we can see, the non-nested scores on average are more optimistic, thus, relying solely on the information of that process might result in a biased model selection. \n",
        "\n",
        "We can also plot the scores of each iteration and create a plot to get a visual comparison of how both processes behaved.\n"
      ]
    },
    {
      "cell_type": "code",
      "metadata": {
        "id": "0t7aRGQWWqup",
        "colab_type": "code",
        "colab": {
          "base_uri": "https://localhost:8080/",
          "height": 398
        },
        "outputId": "5fc607e7-8479-4e12-b23c-94df10a7157a"
      },
      "source": [
        "# Plot scores on each trial for nested and non-nested cross-validation\n",
        "plt.style.use('seaborn')\n",
        "plt.tight_layout()\n",
        "plt.figure(figsize=(10,5))\n",
        "outer_scores_line, = plt.plot(outer_scores, color='orange')\n",
        "nested_line, = plt.plot(nested_scores, color='steelblue')\n",
        "plt.ylabel(\"Score\", fontsize=\"14\")\n",
        "plt.legend([outer_scores_line, nested_line],\n",
        "           [\"Non-Nested CV\", \"Nested CV\"],\n",
        "           bbox_to_anchor=(0, .4, .5, 0))\n",
        "plt.title(\"Non-Nested vs Nested Cross-Validation on the Wine Dataset\",\n",
        "          x=.5, y=1.1, fontsize=\"15\")\n",
        "# Save the plot\n",
        "plt.savefig(\"nested-vs-non-nested.png\", dpi=150)"
      ],
      "execution_count": null,
      "outputs": [
        {
          "output_type": "execute_result",
          "data": {
            "text/plain": [
              "Text(0.5, 1.1, 'Non-Nested vs Nested Cross-Validation on the Wine Dataset')"
            ]
          },
          "metadata": {
            "tags": []
          },
          "execution_count": 56
        },
        {
          "output_type": "display_data",
          "data": {
            "text/plain": [
              "<Figure size 576x396 with 0 Axes>"
            ]
          },
          "metadata": {
            "tags": []
          }
        },
        {
          "output_type": "display_data",
          "data": {
            "image/png": "[encoded data removed]",
            "text/plain": [
              "<Figure size 720x360 with 1 Axes>"
            ]
          },
          "metadata": {
            "tags": []
          }
        }
      ]
    },
    {
      "cell_type": "markdown",
      "metadata": {
        "id": "BTy5jW4K2PmA",
        "colab_type": "text"
      },
      "source": [
        "Finally, we can also plot the difference in each round for both CV processes."
      ]
    },
    {
      "cell_type": "code",
      "metadata": {
        "id": "xUA3Zv7YiRJg",
        "colab_type": "code",
        "colab": {
          "base_uri": "https://localhost:8080/",
          "height": 338
        },
        "outputId": "43fa1cff-183c-4382-f162-709f7fddcf11"
      },
      "source": [
        "# Plot bar chart of the difference.\n",
        "plt.figure(figsize=(10,5))\n",
        "plt.tight_layout()\n",
        "difference_plot = plt.bar(range(rounds), score_difference)\n",
        "plt.xlabel(\"Individual Trial #\")\n",
        "plt.legend([difference_plot],\n",
        "           [\"Non-Nested CV - Nested CV Score\"],\n",
        "           bbox_to_anchor=(0, 1, .8, 0))\n",
        "plt.ylabel(\"score difference\", fontsize=\"14\")\n",
        "\n",
        "#Save the plot\n",
        "plt.savefig(\"diff-nested-vs-non-nested.png\", dpi=150)"
      ],
      "execution_count": null,
      "outputs": [
        {
          "output_type": "display_data",
          "data": {
            "image/png": "[encoded data removed]",
            "text/plain": [
              "<Figure size 720x360 with 1 Axes>"
            ]
          },
          "metadata": {
            "tags": []
          }
        }
      ]
    },
    {
      "cell_type": "markdown",
      "metadata": {
        "id": "p-8hPPLYfkIc",
        "colab_type": "text"
      },
      "source": [
        "While cross-validation is an industry-standard to assess generalization, it’s important to consider the problem at hand and to potentially implement a more rigorous process to avoid selection bias while choosing the final model. From personal experience, this is significatively more important when you’re dealing with small datasets and when the system it’s meant to support non-trivial decisions. \n",
        "\n",
        "Nested-cross validation is not a perfect process, it is computationally expensive, and it’s definitely not a panacea for poor model performance in production, however, in most scenarios the process will allow you to get a more realistic view of the generalization capacity of each model."
      ]
    }
  ]
}